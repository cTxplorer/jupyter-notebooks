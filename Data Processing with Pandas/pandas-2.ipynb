{
  "cells": [
    {
      "metadata": {
        "_uuid": "8f2839f25d086af736a60e9eeb907d3b93b6e0e5",
        "_cell_guid": "b1076dfc-b9ad-4769-8c92-a6c4dae69d19",
        "trusted": true
      },
      "cell_type": "markdown",
      "source": "# Data Processing in Pandas - II\n\n*This is second part of a two part series : [Part 1](https://www.kaggle.com/ctxplorer/data-processing-in-pandas-i), Part 2*\n\n#### Content:\n1. Adding a column\n2. Performing column operations\n3. Renaming column"
    },
    {
      "metadata": {
        "_cell_guid": "79c7e3d0-c299-4dcb-8224-4455121ee9b0",
        "_uuid": "d629ff2d2480ee46fbb7e2d37f6b5fab8052498a",
        "trusted": true
      },
      "cell_type": "code",
      "source": "import pandas as pd",
      "execution_count": 1,
      "outputs": []
    },
    {
      "metadata": {
        "trusted": true,
        "_uuid": "a31f8d75f46f7eddc591b43c358c0f82b749ec4b"
      },
      "cell_type": "code",
      "source": "# Data\ndf = pd.DataFrame([\n  [1, '3 inch screw', 0.5, 0.75],\n  [2, '2 inch nail', 0.10, 0.25],\n  [3, 'hammer', 3.00, 5.50],\n  [4, 'screwdriver', 2.50, 3.00]\n],\n  columns=['Product ID', 'Description', 'Cost to Manufacture', 'Price']\n)\nprint(df)",
      "execution_count": 2,
      "outputs": [
        {
          "output_type": "stream",
          "text": "   Product ID   Description  Cost to Manufacture  Price\n0           1  3 inch screw                  0.5   0.75\n1           2   2 inch nail                  0.1   0.25\n2           3        hammer                  3.0   5.50\n3           4   screwdriver                  2.5   3.00\n",
          "name": "stdout"
        }
      ]
    },
    {
      "metadata": {
        "_uuid": "dc2818219ba6cdfe012b4210927ace4bd8d286d2"
      },
      "cell_type": "markdown",
      "source": "## 1. Adding a column"
    },
    {
      "metadata": {
        "_uuid": "0e63d0d72be436822c5c5f63e72d7b3b2802ce76"
      },
      "cell_type": "markdown",
      "source": "#### By assigning list of values to new column"
    },
    {
      "metadata": {
        "trusted": true,
        "_uuid": "2261ee402a1cf3f8111a282c34aadddd70fe6c7a"
      },
      "cell_type": "code",
      "source": "df['Sold in Bulk?'] = ['Yes', 'Yes', 'No', 'No']\nprint(df)",
      "execution_count": 3,
      "outputs": [
        {
          "output_type": "stream",
          "text": "   Product ID   Description      ...        Price  Sold in Bulk?\n0           1  3 inch screw      ...         0.75            Yes\n1           2   2 inch nail      ...         0.25            Yes\n2           3        hammer      ...         5.50             No\n3           4   screwdriver      ...         3.00             No\n\n[4 rows x 5 columns]\n",
          "name": "stdout"
        }
      ]
    },
    {
      "metadata": {
        "_uuid": "69eb41ecd887cd7537263e19b4d9ae97f807e9cc"
      },
      "cell_type": "markdown",
      "source": "#### By assigning same value for each rows"
    },
    {
      "metadata": {
        "trusted": true,
        "_uuid": "1c822aa1ede3e30e45dfca913268b32b49baca0a"
      },
      "cell_type": "code",
      "source": "df['Is taxed?'] = 'Yes'\nprint(df)",
      "execution_count": 4,
      "outputs": [
        {
          "output_type": "stream",
          "text": "   Product ID   Description    ...      Sold in Bulk?  Is taxed?\n0           1  3 inch screw    ...                Yes        Yes\n1           2   2 inch nail    ...                Yes        Yes\n2           3        hammer    ...                 No        Yes\n3           4   screwdriver    ...                 No        Yes\n\n[4 rows x 6 columns]\n",
          "name": "stdout"
        }
      ]
    },
    {
      "metadata": {
        "_uuid": "e4bae14f9dbca80d2f93a1febb81d53fe1de7d18"
      },
      "cell_type": "markdown",
      "source": "#### By performing a function on existing columns"
    },
    {
      "metadata": {
        "trusted": true,
        "_uuid": "58aa16cf2efdbe8d4836ee94b003d5f4be07f681"
      },
      "cell_type": "code",
      "source": "df['Revenue'] = df['Price'] - df['Cost to Manufacture']\nprint(df)",
      "execution_count": 5,
      "outputs": [
        {
          "output_type": "stream",
          "text": "   Product ID   Description   ...     Is taxed?  Revenue\n0           1  3 inch screw   ...           Yes     0.25\n1           2   2 inch nail   ...           Yes     0.15\n2           3        hammer   ...           Yes     2.50\n3           4   screwdriver   ...           Yes     0.50\n\n[4 rows x 7 columns]\n",
          "name": "stdout"
        }
      ]
    },
    {
      "metadata": {
        "_uuid": "3a587616e878870a92b0167402b7c9a0ac1f7cff"
      },
      "cell_type": "markdown",
      "source": "## 2. Performing column operations"
    },
    {
      "metadata": {
        "trusted": true,
        "_uuid": "e49d0f9dac39d5f2f2fbd12bbf0134d4e6e67341"
      },
      "cell_type": "code",
      "source": "df = pd.DataFrame([\n  ['JOHN SMITH', 'john.smith@gmail.com'],\n  ['Jane Doe', 'jdoe@yahoo.com'],\n  ['joe schmo', 'joeschmo@hotmail.com']\n],\ncolumns=['Name', 'Email'])\nprint(df)",
      "execution_count": 6,
      "outputs": [
        {
          "output_type": "stream",
          "text": "         Name                 Email\n0  JOHN SMITH  john.smith@gmail.com\n1    Jane Doe        jdoe@yahoo.com\n2   joe schmo  joeschmo@hotmail.com\n",
          "name": "stdout"
        }
      ]
    },
    {
      "metadata": {
        "_uuid": "b872f4b4bd6b28031e6328bfeb16b110227969d7"
      },
      "cell_type": "markdown",
      "source": "#### By applying a lambda to a column"
    },
    {
      "metadata": {
        "trusted": true,
        "_uuid": "654924885d11a8b229267ced379e8708e1271078"
      },
      "cell_type": "code",
      "source": "df['Email Provider'] = df.Email.apply(lambda x : x.split('@')[-1])\nprint(df)",
      "execution_count": 7,
      "outputs": [
        {
          "output_type": "stream",
          "text": "         Name                 Email Email Provider\n0  JOHN SMITH  john.smith@gmail.com      gmail.com\n1    Jane Doe        jdoe@yahoo.com      yahoo.com\n2   joe schmo  joeschmo@hotmail.com    hotmail.com\n",
          "name": "stdout"
        }
      ]
    },
    {
      "metadata": {
        "_uuid": "7014844880547825250ebadac5fc0636f8168d2a"
      },
      "cell_type": "markdown",
      "source": "#### By applying a lambda to a row"
    },
    {
      "metadata": {
        "trusted": true,
        "_uuid": "c6bfb066cbe25136fb60935ce49506c9033ff48e"
      },
      "cell_type": "code",
      "source": "df['Message'] = df.apply(\n    lambda row: row.Name + ' uses gmail'\n            if row['Email Provider'] == 'gmail.com'\n            else row.Name + ' uses ' + row['Email Provider'],\n    axis = 1\n)\nprint(df)",
      "execution_count": 8,
      "outputs": [
        {
          "output_type": "stream",
          "text": "         Name             ...                                 Message\n0  JOHN SMITH             ...                   JOHN SMITH uses gmail\n1    Jane Doe             ...                 Jane Doe uses yahoo.com\n2   joe schmo             ...              joe schmo uses hotmail.com\n\n[3 rows x 4 columns]\n",
          "name": "stdout"
        }
      ]
    },
    {
      "metadata": {
        "_uuid": "722e277dc607a8d50ab3c6751e1e6a91cd7a8bef"
      },
      "cell_type": "markdown",
      "source": "## 3. Renaming column"
    },
    {
      "metadata": {
        "_uuid": "249c43bd5b677276341facb48959858df9c1f432"
      },
      "cell_type": "markdown",
      "source": "#### Using **.columns**"
    },
    {
      "metadata": {
        "trusted": true,
        "_uuid": "21869289b85b8ba9557d37848c69086b7c85bfa3"
      },
      "cell_type": "code",
      "source": "df.columns = ['Full Name', 'Email Address', 'Email Provider', 'Message']\nprint(df.info())",
      "execution_count": 9,
      "outputs": [
        {
          "output_type": "stream",
          "text": "<class 'pandas.core.frame.DataFrame'>\nRangeIndex: 3 entries, 0 to 2\nData columns (total 4 columns):\nFull Name         3 non-null object\nEmail Address     3 non-null object\nEmail Provider    3 non-null object\nMessage           3 non-null object\ndtypes: object(4)\nmemory usage: 176.0+ bytes\nNone\n",
          "name": "stdout"
        }
      ]
    },
    {
      "metadata": {
        "_uuid": "5500aeb2f94b586db49f79ae34aabf30646ee58b"
      },
      "cell_type": "markdown",
      "source": "#### Using **.rename**"
    },
    {
      "metadata": {
        "trusted": true,
        "_uuid": "b121309f93b6de079a57f2b939f93af0807431fd"
      },
      "cell_type": "code",
      "source": "df.rename(columns={\n    'Full Name': 'Full_Name',\n    'Email Address': 'Email_Address',\n    'Email Provider': 'Email_Provider'\n}, inplace=True)\nprint(df.info())",
      "execution_count": 10,
      "outputs": [
        {
          "output_type": "stream",
          "text": "<class 'pandas.core.frame.DataFrame'>\nRangeIndex: 3 entries, 0 to 2\nData columns (total 4 columns):\nFull_Name         3 non-null object\nEmail_Address     3 non-null object\nEmail_Provider    3 non-null object\nMessage           3 non-null object\ndtypes: object(4)\nmemory usage: 176.0+ bytes\nNone\n",
          "name": "stdout"
        }
      ]
    },
    {
      "metadata": {
        "_uuid": "84571a9a1ee18bf16559c0d47d55291190795241"
      },
      "cell_type": "markdown",
      "source": "### That is all for now. Hope it helped you!"
    }
  ],
  "metadata": {
    "kernelspec": {
      "display_name": "Python 3",
      "language": "python",
      "name": "python3"
    },
    "language_info": {
      "name": "python",
      "version": "3.6.6",
      "mimetype": "text/x-python",
      "codemirror_mode": {
        "name": "ipython",
        "version": 3
      },
      "pygments_lexer": "ipython3",
      "nbconvert_exporter": "python",
      "file_extension": ".py"
    }
  },
  "nbformat": 4,
  "nbformat_minor": 1
}