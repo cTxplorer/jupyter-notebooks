{
  "cells": [
    {
      "metadata": {
        "_uuid": "8f2839f25d086af736a60e9eeb907d3b93b6e0e5",
        "_cell_guid": "b1076dfc-b9ad-4769-8c92-a6c4dae69d19",
        "trusted": true
      },
      "cell_type": "markdown",
      "source": "# Data Processing in Pandas - Notes  \n\n*This is first part of a two part series : Part 1, [Part 2](https://www.kaggle.com/ctxplorer/data-processing-in-pandas-ii)*\n\n#### Content:\n1. Creating a DataFrame\n2. Loading and saving CSVs\n3. Inspecting a DataFrame\n4. Selecting columns\n5. Selecting rows \n6. Selecting rows with logical conditions\n7. Resetting indices "
    },
    {
      "metadata": {
        "_cell_guid": "79c7e3d0-c299-4dcb-8224-4455121ee9b0",
        "_uuid": "d629ff2d2480ee46fbb7e2d37f6b5fab8052498a",
        "trusted": true
      },
      "cell_type": "code",
      "source": "import pandas as pd",
      "execution_count": 1,
      "outputs": []
    },
    {
      "metadata": {
        "_uuid": "dc2818219ba6cdfe012b4210927ace4bd8d286d2"
      },
      "cell_type": "markdown",
      "source": "## 1. Creating a DataFrame"
    },
    {
      "metadata": {
        "_uuid": "0e63d0d72be436822c5c5f63e72d7b3b2802ce76"
      },
      "cell_type": "markdown",
      "source": "#### Add data using Dictonary"
    },
    {
      "metadata": {
        "trusted": true,
        "_uuid": "2261ee402a1cf3f8111a282c34aadddd70fe6c7a"
      },
      "cell_type": "code",
      "source": "df1 = pd.DataFrame({\n    'name': ['John Smith', 'Jane Doe', 'Joe Schmo'],\n    'address': ['123 Main St.', '456 Maple Ave.', '789 Broadway'],\n    'age': [34, 28, 51]\n})\nprint(df1)",
      "execution_count": 2,
      "outputs": [
        {
          "output_type": "stream",
          "text": "         name         address  age\n0  John Smith    123 Main St.   34\n1    Jane Doe  456 Maple Ave.   28\n2   Joe Schmo    789 Broadway   51\n",
          "name": "stdout"
        }
      ]
    },
    {
      "metadata": {
        "_uuid": "f4e921112915b4e4125808b43c40cbd21e4ee27d"
      },
      "cell_type": "markdown",
      "source": "#####  The columns will appear in alphabetical order because dictionaries don't have any inherent order for columns"
    },
    {
      "metadata": {
        "_uuid": "69eb41ecd887cd7537263e19b4d9ae97f807e9cc"
      },
      "cell_type": "markdown",
      "source": "#### Add data using List"
    },
    {
      "metadata": {
        "trusted": true,
        "_uuid": "1c822aa1ede3e30e45dfca913268b32b49baca0a"
      },
      "cell_type": "code",
      "source": "df2 = pd.DataFrame([\n    ['John Smith', '123 Main St.', 34],\n    ['Jane Doe', '456 Maple Ave.', 28],\n    ['Joe Schmo', '789 Broadway', 51]\n    ],\n    columns=['name', 'address', 'age'])\nprint(df2)",
      "execution_count": 3,
      "outputs": [
        {
          "output_type": "stream",
          "text": "         name         address  age\n0  John Smith    123 Main St.   34\n1    Jane Doe  456 Maple Ave.   28\n2   Joe Schmo    789 Broadway   51\n",
          "name": "stdout"
        }
      ]
    },
    {
      "metadata": {
        "_uuid": "3a587616e878870a92b0167402b7c9a0ac1f7cff"
      },
      "cell_type": "markdown",
      "source": "## 2. Loading and saving CSVs"
    },
    {
      "metadata": {
        "trusted": true,
        "_uuid": "e49d0f9dac39d5f2f2fbd12bbf0134d4e6e67341"
      },
      "cell_type": "code",
      "source": "# save data to a CSV\ndf1.to_csv('new-csv-file.csv')\n\n# load CSV file into a DataFrame in Pandas\ndf3 = pd.read_csv('../input/sample-csv-file/sample.csv')\n\nprint(df3)",
      "execution_count": 4,
      "outputs": [
        {
          "output_type": "stream",
          "text": "            City  Population  Median Age\n0      Maplewood      100000          40\n1          Wayne      350000          33\n2  Forrest Hills      300000          35\n3        Paramus      400000          55\n4     Hackensack      290000          39\n",
          "name": "stdout"
        }
      ]
    },
    {
      "metadata": {
        "_uuid": "722e277dc607a8d50ab3c6751e1e6a91cd7a8bef"
      },
      "cell_type": "markdown",
      "source": "## 3. Inspecting a DataFrame"
    },
    {
      "metadata": {
        "trusted": true,
        "_uuid": "21869289b85b8ba9557d37848c69086b7c85bfa3"
      },
      "cell_type": "code",
      "source": "df4 = pd.read_csv('../input/imdb-data/IMDB-Movie-Data.csv')\n\n# print first 3 rows of DataFrame (Default 5)\nprint(df4.head(3))\n\n# print statistics for each columns\nprint(df4.info())",
      "execution_count": 5,
      "outputs": [
        {
          "output_type": "stream",
          "text": "   Rank                    Title    ...    Revenue (Millions) Metascore\n0     1  Guardians of the Galaxy    ...                333.13      76.0\n1     2               Prometheus    ...                126.46      65.0\n2     3                    Split    ...                138.12      62.0\n\n[3 rows x 12 columns]\n<class 'pandas.core.frame.DataFrame'>\nRangeIndex: 1000 entries, 0 to 999\nData columns (total 12 columns):\nRank                  1000 non-null int64\nTitle                 1000 non-null object\nGenre                 1000 non-null object\nDescription           1000 non-null object\nDirector              1000 non-null object\nActors                1000 non-null object\nYear                  1000 non-null int64\nRuntime (Minutes)     1000 non-null int64\nRating                1000 non-null float64\nVotes                 1000 non-null int64\nRevenue (Millions)    872 non-null float64\nMetascore             936 non-null float64\ndtypes: float64(3), int64(4), object(5)\nmemory usage: 93.8+ KB\nNone\n",
          "name": "stdout"
        }
      ]
    },
    {
      "metadata": {
        "_uuid": "56e377b606167497e0b0bcd6b08b75c163a799f3"
      },
      "cell_type": "markdown",
      "source": "## 4. Selecting columns"
    },
    {
      "metadata": {
        "_uuid": "0e93536a92dd5a4abcc94f702583adf12caea66e"
      },
      "cell_type": "markdown",
      "source": "#### Using name of column\n##### used only if name of columns follows all the rules of variable naming"
    },
    {
      "metadata": {
        "trusted": true,
        "_uuid": "e8f362f279608a3d04ebf2e2877f4e2eb81abc1d"
      },
      "cell_type": "code",
      "source": "# Select column 'Title'\nimdb_title = df4.Title\nprint(imdb_title.head())",
      "execution_count": 6,
      "outputs": [
        {
          "output_type": "stream",
          "text": "0    Guardians of the Galaxy\n1                 Prometheus\n2                      Split\n3                       Sing\n4              Suicide Squad\nName: Title, dtype: object\n",
          "name": "stdout"
        }
      ]
    },
    {
      "metadata": {
        "_uuid": "bd23711916d8902dde5516325f4d1cf5e2edca10"
      },
      "cell_type": "markdown",
      "source": "#### Using key value"
    },
    {
      "metadata": {
        "trusted": true,
        "_uuid": "9ab7c83403df350056e7eb7f0d2eb848ab3c0811"
      },
      "cell_type": "code",
      "source": "# Select column 'Runtime (Minutes)'\nimdb_runtime_minutes = df4['Runtime (Minutes)']\nprint(imdb_runtime_minutes.head())",
      "execution_count": 7,
      "outputs": [
        {
          "output_type": "stream",
          "text": "0    121\n1    124\n2    117\n3    108\n4    123\nName: Runtime (Minutes), dtype: int64\n",
          "name": "stdout"
        }
      ]
    },
    {
      "metadata": {
        "_uuid": "bdbeae9d6a64854437cdfa15f965056ef3feda5d"
      },
      "cell_type": "markdown",
      "source": "#### Selecting multiple columns"
    },
    {
      "metadata": {
        "trusted": true,
        "_uuid": "5911b4de9b6c3b030da302fcf791cb2239c183e2"
      },
      "cell_type": "code",
      "source": "imdb_data = df4[['Title', 'Runtime (Minutes)']]\nprint(imdb_data.head())",
      "execution_count": 8,
      "outputs": [
        {
          "output_type": "stream",
          "text": "                     Title  Runtime (Minutes)\n0  Guardians of the Galaxy                121\n1               Prometheus                124\n2                    Split                117\n3                     Sing                108\n4            Suicide Squad                123\n",
          "name": "stdout"
        }
      ]
    },
    {
      "metadata": {
        "_uuid": "718ff48dbefb83ab8f44561c398585b77fc6264e"
      },
      "cell_type": "markdown",
      "source": "## 5. Selecting rows"
    },
    {
      "metadata": {
        "trusted": true,
        "_uuid": "88156473f2600851f2d42e6aaa42a155dc7bf649"
      },
      "cell_type": "code",
      "source": "# select fourth row\nsing_movie = imdb_data.iloc[3]\nprint(sing_movie)",
      "execution_count": 9,
      "outputs": [
        {
          "output_type": "stream",
          "text": "Title                Sing\nRuntime (Minutes)     108\nName: 3, dtype: object\n",
          "name": "stdout"
        }
      ]
    },
    {
      "metadata": {
        "_uuid": "dcb2b9c40d35d2c3a158b3d56954948bc5dcbf6a"
      },
      "cell_type": "markdown",
      "source": "#### Selecting multiple rows"
    },
    {
      "metadata": {
        "trusted": true,
        "_uuid": "a5e7c2167b23905809d4ea4cea2e4960fce44803"
      },
      "cell_type": "code",
      "source": "# select last third row\nlast_three_movies = imdb_data.iloc[-3:]\nprint(last_three_movies)",
      "execution_count": 10,
      "outputs": [
        {
          "output_type": "stream",
          "text": "                      Title  Runtime (Minutes)\n997  Step Up 2: The Streets                 98\n998            Search Party                 93\n999              Nine Lives                 87\n",
          "name": "stdout"
        }
      ]
    },
    {
      "metadata": {
        "_uuid": "ce407538737d1ef9044705a411a30684c056b64f"
      },
      "cell_type": "markdown",
      "source": "## 6. Selecting rows with logical conditions"
    },
    {
      "metadata": {
        "trusted": true,
        "_uuid": "41333cc8695f32c661d985039edc47ac9cb123cd"
      },
      "cell_type": "code",
      "source": "# select rows with runtime less than 75\nshort_movies = imdb_data[imdb_data['Runtime (Minutes)'] < 75]\nprint(short_movies)",
      "execution_count": 11,
      "outputs": [
        {
          "output_type": "stream",
          "text": "                       Title  Runtime (Minutes)\n42   Don't Fuck in the Woods                 73\n793      Ma vie de Courgette                 66\n819       Wolves at the Door                 73\n",
          "name": "stdout"
        }
      ]
    },
    {
      "metadata": {
        "_uuid": "197a3da5f94bbc49025f1f12898b0f1bd8af1fb2"
      },
      "cell_type": "markdown",
      "source": "#### Selecting rows with multiple logical conditions\n##### Use paranthesis when combining multiple logical condition"
    },
    {
      "metadata": {
        "trusted": true,
        "_uuid": "1db4f21bd5b99e2385d07d3ad2a8ada9ce2ec383"
      },
      "cell_type": "code",
      "source": "# select rows with runtime between 60 and 80\nmedium_length_movies = imdb_data[(imdb_data['Runtime (Minutes)'] > 60) &\n                                 (imdb_data['Runtime (Minutes)'] < 80)]\nprint(medium_length_movies)",
      "execution_count": 12,
      "outputs": [
        {
          "output_type": "stream",
          "text": "                       Title  Runtime (Minutes)\n42   Don't Fuck in the Woods                 73\n793      Ma vie de Courgette                 66\n819       Wolves at the Door                 73\n",
          "name": "stdout"
        }
      ]
    },
    {
      "metadata": {
        "_uuid": "c5f649832741be29cb4e7a11b27d438b3396e7c7"
      },
      "cell_type": "markdown",
      "source": "#### Selecting rows with specific values"
    },
    {
      "metadata": {
        "trusted": true,
        "_uuid": "b2c6fba020fb8ad0777c5258a01d26fc6f678dfe"
      },
      "cell_type": "code",
      "source": "# select rows with title in the list\nfav_movies = imdb_data[imdb_data.Title.isin([\n    'Wolves at the Door', 'Guardians of the Galaxy'\n])]\nprint(fav_movies)",
      "execution_count": 13,
      "outputs": [
        {
          "output_type": "stream",
          "text": "                       Title  Runtime (Minutes)\n0    Guardians of the Galaxy                121\n819       Wolves at the Door                 73\n",
          "name": "stdout"
        }
      ]
    },
    {
      "metadata": {
        "_uuid": "097329cc1b0c232b4df018478a387fadb5ca4321"
      },
      "cell_type": "markdown",
      "source": "## 7. Resetting indices  \n##### When we select a subset of a DataFrame using logic, we end up with non-consecutive indices. We can fix this using the method **.reset_index()**. "
    },
    {
      "metadata": {
        "trusted": true,
        "_uuid": "babbd750b03dabded3f48ca22b4aafab9028ae9d"
      },
      "cell_type": "code",
      "source": "# reset indices without changing the source DF\nfav_movies = fav_movies.reset_index(drop=True)\nprint(fav_movies)\n\n# reset indices in the source DF\nmedium_length_movies.reset_index(drop=True, inplace=True)\nprint(medium_length_movies)",
      "execution_count": 14,
      "outputs": [
        {
          "output_type": "stream",
          "text": "                     Title  Runtime (Minutes)\n0  Guardians of the Galaxy                121\n1       Wolves at the Door                 73\n                     Title  Runtime (Minutes)\n0  Don't Fuck in the Woods                 73\n1      Ma vie de Courgette                 66\n2       Wolves at the Door                 73\n",
          "name": "stdout"
        }
      ]
    },
    {
      "metadata": {
        "_uuid": "84571a9a1ee18bf16559c0d47d55291190795241"
      },
      "cell_type": "markdown",
      "source": "### That is all for now. Hope it helped you!\n#### Check out [Part 2](https://www.kaggle.com/ctxplorer/data-processing-in-pandas-ii) of the series."
    }
  ],
  "metadata": {
    "kernelspec": {
      "display_name": "Python 3",
      "language": "python",
      "name": "python3"
    },
    "language_info": {
      "name": "python",
      "version": "3.6.6",
      "mimetype": "text/x-python",
      "codemirror_mode": {
        "name": "ipython",
        "version": 3
      },
      "pygments_lexer": "ipython3",
      "nbconvert_exporter": "python",
      "file_extension": ".py"
    }
  },
  "nbformat": 4,
  "nbformat_minor": 1
}